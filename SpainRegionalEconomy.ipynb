{
 "cells": [
  {
   "cell_type": "markdown",
   "metadata": {},
   "source": [
    "Import Pandas "
   ]
  },
  {
   "cell_type": "code",
   "execution_count": 78,
   "metadata": {},
   "outputs": [],
   "source": [
    "import pandas as pd\n",
    "import numpy as np\n",
    "import matplotlib.pyplot as plt\n",
    "import seaborn as sns\n",
    "from pandas import Series, DataFrame, Panel"
   ]
  },
  {
   "cell_type": "markdown",
   "metadata": {},
   "source": [
    "Read in data of GDP (PIB) per capita for Spain's regions"
   ]
  },
  {
   "cell_type": "code",
   "execution_count": 26,
   "metadata": {},
   "outputs": [],
   "source": [
    "data=pd.read_excel(\"https://www.ine.es/daco/daco42/cre00/b2010/pr_cre.xlsx\", skiprows=5, nrows=63, sheet_name=\"Tabla_2\")\n"
   ]
  },
  {
   "cell_type": "code",
   "execution_count": 27,
   "metadata": {},
   "outputs": [
    {
     "name": "stdout",
     "output_type": "stream",
     "text": [
      "    Unnamed: 0                   Unnamed: 1  Valor  Índice España = 100  \\\n",
      "0          NaN                    ANDALUCÍA  11823             0.741952   \n",
      "1          NaN                      Almería  15144             0.950361   \n",
      "2          NaN                        Cádiz  12070             0.757452   \n",
      "3          NaN                      Córdoba  10686             0.670599   \n",
      "4          NaN                      Granada  10573             0.663508   \n",
      "5          NaN                       Huelva  12939             0.811986   \n",
      "6          NaN                         Jaén  10371             0.650832   \n",
      "7          NaN                       Málaga  11749             0.737308   \n",
      "8          NaN                      Sevilla  12047             0.756009   \n",
      "9          NaN                       ARAGÓN  16692             1.047505   \n",
      "10         NaN                       Huesca  16032             1.006087   \n",
      "11         NaN                       Teruel  16678             1.046627   \n",
      "12         NaN                     Zaragoza  16853             1.057609   \n",
      "13         NaN      ASTURIAS, PRINCIPADO DE  13382             0.839787   \n",
      "14         NaN               BALEARS, ILLES  20030             1.256981   \n",
      "15         NaN                     CANARIAS  15570             0.977094   \n",
      "16         NaN                  Palmas, Las  16126             1.011986   \n",
      "17         NaN       Santa Cruz de Tenerife  14962             0.938939   \n",
      "18         NaN                    CANTABRIA  14891             0.934484   \n",
      "19         NaN              CASTILLA Y LEÓN  14445             0.906495   \n",
      "20         NaN                        Ávila  12575             0.789143   \n",
      "21         NaN                       Burgos  17667             1.108692   \n",
      "22         NaN                         León  13133             0.824161   \n",
      "23         NaN                     Palencia  14522             0.911327   \n",
      "24         NaN                    Salamanca  12633             0.792783   \n",
      "25         NaN                      Segovia  15861             0.995356   \n",
      "26         NaN                        Soria  15768             0.989520   \n",
      "27         NaN                   Valladolid  16021             1.005397   \n",
      "28         NaN                       Zamora  11127             0.698274   \n",
      "29         NaN         CASTILLA - LA MANCHA  12431             0.780107   \n",
      "..         ...                          ...    ...                  ...   \n",
      "33         NaN                  Guadalajara  13831             0.867964   \n",
      "34         NaN                       Toledo  12575             0.789143   \n",
      "35         NaN                     CATALUÑA  19383             1.216379   \n",
      "36         NaN                    Barcelona  19294             1.210794   \n",
      "37         NaN                       Girona  19441             1.220019   \n",
      "38         NaN                       Lleida  19183             1.203828   \n",
      "39         NaN                    Tarragona  20154             1.264763   \n",
      "40         NaN         COMUNITAT VALENCIANA  15185             0.952934   \n",
      "41         NaN             Alicante/Alacant  14083             0.883778   \n",
      "42         NaN           Castellón/Castelló  18342             1.151051   \n",
      "43         NaN            Valencia/València  15218             0.955005   \n",
      "44         NaN                  EXTREMADURA  10145             0.636649   \n",
      "45         NaN                      Badajoz  10166             0.637967   \n",
      "46         NaN                      Cáceres  10111             0.634515   \n",
      "47         NaN                      GALICIA  12372             0.776404   \n",
      "48         NaN                    Coruña, A  12710             0.797615   \n",
      "49         NaN                         Lugo  11806             0.740885   \n",
      "50         NaN                      Ourense  11159             0.700282   \n",
      "51         NaN                   Pontevedra  12645             0.793536   \n",
      "52         NaN         MADRID, COMUNIDAD DE  21333             1.338751   \n",
      "53         NaN            MURCIA, REGIÓN DE  13328             0.836398   \n",
      "54         NaN  NAVARRA, COMUNIDAD FORAL DE  20287             1.273110   \n",
      "55         NaN                   PAÍS VASCO  19542             1.226357   \n",
      "56         NaN                  Araba/Álava  22065             1.384688   \n",
      "57         NaN                      Bizkaia  18620             1.168497   \n",
      "58         NaN                     Gipuzkoa  20017             1.256166   \n",
      "59         NaN                    RIOJA, LA  17813             1.117854   \n",
      "60         NaN                        CEUTA  14350             0.900533   \n",
      "61         NaN                      MELILLA  14132             0.886853   \n",
      "62         NaN               Total Nacional  15935             1.000000   \n",
      "\n",
      "    Unnamed: 4  Valor.1  Índice España = 100.1  Tasa de Variación Interanual  \\\n",
      "0          NaN    12735               0.742133                      0.077138   \n",
      "1          NaN    15980               0.931235                      0.055203   \n",
      "2          NaN    12890               0.751166                      0.067937   \n",
      "3          NaN    11313               0.659266                      0.058675   \n",
      "4          NaN    11444               0.666900                      0.082380   \n",
      "5          NaN    13275               0.773601                      0.025968   \n",
      "6          NaN    11214               0.653497                      0.081284   \n",
      "7          NaN    13035               0.759615                      0.109456   \n",
      "8          NaN    13072               0.761772                      0.085083   \n",
      "9          NaN    17917               1.044114                      0.073388   \n",
      "10         NaN    17747               1.034207                      0.106974   \n",
      "11         NaN    17947               1.045862                      0.076088   \n",
      "12         NaN    17953               1.046212                      0.065270   \n",
      "13         NaN    14468               0.843124                      0.081154   \n",
      "14         NaN    21256               1.238695                      0.061208   \n",
      "15         NaN    16759               0.976632                      0.076365   \n",
      "16         NaN    17369               1.012179                      0.077080   \n",
      "17         NaN    16089               0.937587                      0.075324   \n",
      "18         NaN    16095               0.937937                      0.080854   \n",
      "19         NaN    15441               0.899825                      0.068951   \n",
      "20         NaN    13126               0.764918                      0.043817   \n",
      "21         NaN    18473               1.076515                      0.045622   \n",
      "22         NaN    14228               0.829138                      0.083378   \n",
      "23         NaN    15622               0.910373                      0.075747   \n",
      "24         NaN    13999               0.815793                      0.108130   \n",
      "25         NaN    16490               0.960956                      0.039657   \n",
      "26         NaN    16344               0.952448                      0.036530   \n",
      "27         NaN    17142               0.998951                      0.069971   \n",
      "28         NaN    11932               0.695338                      0.072347   \n",
      "29         NaN    13425               0.782343                      0.079961   \n",
      "..         ...      ...                    ...                           ...   \n",
      "33         NaN    15272               0.889977                      0.104186   \n",
      "34         NaN    13640               0.794872                      0.084692   \n",
      "35         NaN    20899               1.217890                      0.078213   \n",
      "36         NaN    20715               1.207168                      0.073650   \n",
      "37         NaN    21348               1.244056                      0.098092   \n",
      "38         NaN    20951               1.220921                      0.092165   \n",
      "39         NaN    21911               1.276865                      0.087179   \n",
      "40         NaN    16461               0.959266                      0.084030   \n",
      "41         NaN    15393               0.897028                      0.093020   \n",
      "42         NaN    19386               1.129720                      0.056919   \n",
      "43         NaN    16524               0.962937                      0.085819   \n",
      "44         NaN    10851               0.632343                      0.069591   \n",
      "45         NaN    10828               0.631002                      0.065119   \n",
      "46         NaN    10889               0.634557                      0.076946   \n",
      "47         NaN    13341               0.777448                      0.078322   \n",
      "48         NaN    13626               0.794056                      0.072069   \n",
      "49         NaN    12851               0.748893                      0.088514   \n",
      "50         NaN    12320               0.717949                      0.104042   \n",
      "51         NaN    13574               0.791026                      0.073468   \n",
      "52         NaN    23016               1.341259                      0.078892   \n",
      "53         NaN    14336               0.835431                      0.075630   \n",
      "54         NaN    21484               1.251981                      0.059003   \n",
      "55         NaN    20932               1.219814                      0.071129   \n",
      "56         NaN    23856               1.390210                      0.081169   \n",
      "57         NaN    19529               1.138054                      0.048818   \n",
      "58         NaN    22030               1.283800                      0.100565   \n",
      "59         NaN    18919               1.102506                      0.062089   \n",
      "60         NaN    14753               0.859732                      0.028084   \n",
      "61         NaN    14425               0.840618                      0.020733   \n",
      "62         NaN    17160               1.000000                      0.076875   \n",
      "\n",
      "    Unnamed: 8  Valor.2               ...                 \\\n",
      "0          NaN    13565               ...                  \n",
      "1          NaN    16887               ...                  \n",
      "2          NaN    13633               ...                  \n",
      "3          NaN    11959               ...                  \n",
      "4          NaN    12468               ...                  \n",
      "5          NaN    13940               ...                  \n",
      "6          NaN    11714               ...                  \n",
      "7          NaN    13563               ...                  \n",
      "8          NaN    14281               ...                  \n",
      "9          NaN    19227               ...                  \n",
      "10         NaN    19047               ...                  \n",
      "11         NaN    19126               ...                  \n",
      "12         NaN    19286               ...                  \n",
      "13         NaN    15361               ...                  \n",
      "14         NaN    21684               ...                  \n",
      "15         NaN    17476               ...                  \n",
      "16         NaN    18003               ...                  \n",
      "17         NaN    16897               ...                  \n",
      "18         NaN    17080               ...                  \n",
      "19         NaN    16430               ...                  \n",
      "20         NaN    13651               ...                  \n",
      "21         NaN    19492               ...                  \n",
      "22         NaN    14990               ...                  \n",
      "23         NaN    17419               ...                  \n",
      "24         NaN    14845               ...                  \n",
      "25         NaN    17803               ...                  \n",
      "26         NaN    17820               ...                  \n",
      "27         NaN    18104               ...                  \n",
      "28         NaN    12820               ...                  \n",
      "29         NaN    14296               ...                  \n",
      "..         ...      ...               ...                  \n",
      "33         NaN    16342               ...                  \n",
      "34         NaN    14234               ...                  \n",
      "35         NaN    21862               ...                  \n",
      "36         NaN    21474               ...                  \n",
      "37         NaN    22806               ...                  \n",
      "38         NaN    22374               ...                  \n",
      "39         NaN    23725               ...                  \n",
      "40         NaN    17217               ...                  \n",
      "41         NaN    15953               ...                  \n",
      "42         NaN    19893               ...                  \n",
      "43         NaN    17476               ...                  \n",
      "44         NaN    11567               ...                  \n",
      "45         NaN    11516               ...                  \n",
      "46         NaN    11649               ...                  \n",
      "47         NaN    14244               ...                  \n",
      "48         NaN    14851               ...                  \n",
      "49         NaN    13398               ...                  \n",
      "50         NaN    13473               ...                  \n",
      "51         NaN    14127               ...                  \n",
      "52         NaN    24014               ...                  \n",
      "53         NaN    15190               ...                  \n",
      "54         NaN    22652               ...                  \n",
      "55         NaN    22117               ...                  \n",
      "56         NaN    25696               ...                  \n",
      "57         NaN    20699               ...                  \n",
      "58         NaN    22948               ...                  \n",
      "59         NaN    19673               ...                  \n",
      "60         NaN    15671               ...                  \n",
      "61         NaN    15203               ...                  \n",
      "62         NaN    18088               ...                  \n",
      "\n",
      "    Índice España = 100.16  Tasa de Variación Interanual.15  Unnamed: 68  \\\n",
      "0                 0.739547                         0.026273          NaN   \n",
      "1                 0.792900                         0.029488          NaN   \n",
      "2                 0.693502                         0.040815          NaN   \n",
      "3                 0.721777                         0.026513          NaN   \n",
      "4                 0.717127                         0.010945          NaN   \n",
      "5                 0.750135                         0.051079          NaN   \n",
      "6                 0.703882                        -0.001766          NaN   \n",
      "7                 0.724766                         0.024173          NaN   \n",
      "8                 0.789329                         0.027455          NaN   \n",
      "9                 1.094125                         0.045134          NaN   \n",
      "10                1.136350                         0.073968          NaN   \n",
      "11                1.007390                         0.005553          NaN   \n",
      "12                1.096699                         0.043784          NaN   \n",
      "13                0.864729                         0.023390          NaN   \n",
      "14                1.058044                         0.042420          NaN   \n",
      "15                0.826905                         0.029783          NaN   \n",
      "16                0.840149                         0.045953          NaN   \n",
      "17                0.812580                         0.012311          NaN   \n",
      "18                0.897737                         0.035784          NaN   \n",
      "19                0.937928                         0.039912          NaN   \n",
      "20                0.770936                         0.020837          NaN   \n",
      "21                1.129583                         0.052009          NaN   \n",
      "22                0.834586                         0.014894          NaN   \n",
      "23                1.086319                         0.081380          NaN   \n",
      "24                0.850488                         0.061402          NaN   \n",
      "25                0.893170                         0.016251          NaN   \n",
      "26                1.017604                         0.025352          NaN   \n",
      "27                1.009259                         0.040493          NaN   \n",
      "28                0.798339                         0.029116          NaN   \n",
      "29                0.787378                         0.040320          NaN   \n",
      "..                     ...                              ...          ...   \n",
      "33                0.809799                         0.068420          NaN   \n",
      "34                0.741956                         0.046743          NaN   \n",
      "35                1.197633                         0.038898          NaN   \n",
      "36                1.198339                         0.039960          NaN   \n",
      "37                1.180486                         0.050275          NaN   \n",
      "38                1.151173                        -0.021113          NaN   \n",
      "39                1.234129                         0.054379          NaN   \n",
      "40                0.877849                         0.033837          NaN   \n",
      "41                0.802823                         0.057479          NaN   \n",
      "42                1.015113                         0.056249          NaN   \n",
      "43                0.901557                         0.013631          NaN   \n",
      "44                0.696450                         0.041152          NaN   \n",
      "45                0.682541                         0.032730          NaN   \n",
      "46                0.720033                         0.054995          NaN   \n",
      "47                0.886984                         0.034027          NaN   \n",
      "48                0.934897                         0.036790          NaN   \n",
      "49                0.875898                         0.006681          NaN   \n",
      "50                0.866805                         0.062118          NaN   \n",
      "51                0.840689                         0.031430          NaN   \n",
      "52                1.364210                         0.029451          NaN   \n",
      "53                0.823085                         0.027843          NaN   \n",
      "54                1.239734                         0.032290          NaN   \n",
      "55                1.311522                         0.033368          NaN   \n",
      "56                1.497405                         0.023179          NaN   \n",
      "57                1.261283                         0.036261          NaN   \n",
      "58                1.307287                         0.033819          NaN   \n",
      "59                1.055097                         0.008053          NaN   \n",
      "60                0.804401                         0.023022          NaN   \n",
      "61                0.736143                         0.029677          NaN   \n",
      "62                1.000000                         0.033868          NaN   \n",
      "\n",
      "    Valor.17  Índice España = 100.17  Tasa de Variación Interanual.16  \\\n",
      "0    18557.0                0.740385                         0.041826   \n",
      "1        NaN                     NaN                              NaN   \n",
      "2        NaN                     NaN                              NaN   \n",
      "3        NaN                     NaN                              NaN   \n",
      "4        NaN                     NaN                              NaN   \n",
      "5        NaN                     NaN                              NaN   \n",
      "6        NaN                     NaN                              NaN   \n",
      "7        NaN                     NaN                              NaN   \n",
      "8        NaN                     NaN                              NaN   \n",
      "9    27650.0                1.103176                         0.049256   \n",
      "10       NaN                     NaN                              NaN   \n",
      "11       NaN                     NaN                              NaN   \n",
      "12       NaN                     NaN                              NaN   \n",
      "13   22244.0                0.887488                         0.068037   \n",
      "14   26284.0                1.048675                         0.031433   \n",
      "15   20574.0                0.820859                         0.033039   \n",
      "16       NaN                     NaN                              NaN   \n",
      "17       NaN                     NaN                              NaN   \n",
      "18   22700.0                0.905681                         0.049857   \n",
      "19   23447.0                0.935485                         0.037937   \n",
      "20       NaN                     NaN                              NaN   \n",
      "21       NaN                     NaN                              NaN   \n",
      "22       NaN                     NaN                              NaN   \n",
      "23       NaN                     NaN                              NaN   \n",
      "24       NaN                     NaN                              NaN   \n",
      "25       NaN                     NaN                              NaN   \n",
      "26       NaN                     NaN                              NaN   \n",
      "27       NaN                     NaN                              NaN   \n",
      "28       NaN                     NaN                              NaN   \n",
      "29   19822.0                0.790855                         0.045244   \n",
      "..       ...                     ...                              ...   \n",
      "33       NaN                     NaN                              NaN   \n",
      "34       NaN                     NaN                              NaN   \n",
      "35   30064.0                1.199489                         0.042260   \n",
      "36       NaN                     NaN                              NaN   \n",
      "37       NaN                     NaN                              NaN   \n",
      "38       NaN                     NaN                              NaN   \n",
      "39       NaN                     NaN                              NaN   \n",
      "40   22035.0                0.879149                         0.042189   \n",
      "41       NaN                     NaN                              NaN   \n",
      "42       NaN                     NaN                              NaN   \n",
      "43       NaN                     NaN                              NaN   \n",
      "44   17554.0                0.700367                         0.046501   \n",
      "45       NaN                     NaN                              NaN   \n",
      "46       NaN                     NaN                              NaN   \n",
      "47   22404.0                0.893872                         0.048729   \n",
      "48       NaN                     NaN                              NaN   \n",
      "49       NaN                     NaN                              NaN   \n",
      "50       NaN                     NaN                              NaN   \n",
      "51       NaN                     NaN                              NaN   \n",
      "52   33825.0                1.349545                         0.029461   \n",
      "53   20637.0                0.823372                         0.041011   \n",
      "54   30855.0                1.231049                         0.033357   \n",
      "55   32970.0                1.315432                         0.043751   \n",
      "56       NaN                     NaN                              NaN   \n",
      "57       NaN                     NaN                              NaN   \n",
      "58       NaN                     NaN                              NaN   \n",
      "59   26192.0                1.045005                         0.030694   \n",
      "60   19558.0                0.780322                         0.009497   \n",
      "61   18007.0                0.718441                         0.015623   \n",
      "62   25064.0                1.000000                         0.040648   \n",
      "\n",
      "    Unnamed: 72  Valor.18  Índice España = 100.18  \\\n",
      "0           NaN   19132.0                0.740002   \n",
      "1           NaN       NaN                     NaN   \n",
      "2           NaN       NaN                     NaN   \n",
      "3           NaN       NaN                     NaN   \n",
      "4           NaN       NaN                     NaN   \n",
      "5           NaN       NaN                     NaN   \n",
      "6           NaN       NaN                     NaN   \n",
      "7           NaN       NaN                     NaN   \n",
      "8           NaN       NaN                     NaN   \n",
      "9           NaN   28640.0                1.107759   \n",
      "10          NaN       NaN                     NaN   \n",
      "11          NaN       NaN                     NaN   \n",
      "12          NaN       NaN                     NaN   \n",
      "13          NaN   23087.0                0.892976   \n",
      "14          NaN   26764.0                1.035198   \n",
      "15          NaN   21031.0                0.813452   \n",
      "16          NaN       NaN                     NaN   \n",
      "17          NaN       NaN                     NaN   \n",
      "18          NaN   23817.0                0.921211   \n",
      "19          NaN   24397.0                0.943645   \n",
      "20          NaN       NaN                     NaN   \n",
      "21          NaN       NaN                     NaN   \n",
      "22          NaN       NaN                     NaN   \n",
      "23          NaN       NaN                     NaN   \n",
      "24          NaN       NaN                     NaN   \n",
      "25          NaN       NaN                     NaN   \n",
      "26          NaN       NaN                     NaN   \n",
      "27          NaN       NaN                     NaN   \n",
      "28          NaN       NaN                     NaN   \n",
      "29          NaN   20645.0                0.798522   \n",
      "..          ...       ...                     ...   \n",
      "33          NaN       NaN                     NaN   \n",
      "34          NaN       NaN                     NaN   \n",
      "35          NaN   30769.0                1.190106   \n",
      "36          NaN       NaN                     NaN   \n",
      "37          NaN       NaN                     NaN   \n",
      "38          NaN       NaN                     NaN   \n",
      "39          NaN       NaN                     NaN   \n",
      "40          NaN   22659.0                0.876421   \n",
      "41          NaN       NaN                     NaN   \n",
      "42          NaN       NaN                     NaN   \n",
      "43          NaN       NaN                     NaN   \n",
      "44          NaN   18174.0                0.702947   \n",
      "45          NaN       NaN                     NaN   \n",
      "46          NaN       NaN                     NaN   \n",
      "47          NaN   23294.0                0.900982   \n",
      "48          NaN       NaN                     NaN   \n",
      "49          NaN       NaN                     NaN   \n",
      "50          NaN       NaN                     NaN   \n",
      "51          NaN       NaN                     NaN   \n",
      "52          NaN   34916.0                1.350507   \n",
      "53          NaN   21134.0                0.817436   \n",
      "54          NaN   31809.0                1.230332   \n",
      "55          NaN   34079.0                1.318133   \n",
      "56          NaN       NaN                     NaN   \n",
      "57          NaN       NaN                     NaN   \n",
      "58          NaN       NaN                     NaN   \n",
      "59          NaN   26833.0                1.037866   \n",
      "60          NaN   20032.0                0.774812   \n",
      "61          NaN   18482.0                0.714860   \n",
      "62          NaN   25854.0                1.000000   \n",
      "\n",
      "    Tasa de Variación Interanual.17  \n",
      "0                          0.030986  \n",
      "1                               NaN  \n",
      "2                               NaN  \n",
      "3                               NaN  \n",
      "4                               NaN  \n",
      "5                               NaN  \n",
      "6                               NaN  \n",
      "7                               NaN  \n",
      "8                               NaN  \n",
      "9                          0.035805  \n",
      "10                              NaN  \n",
      "11                              NaN  \n",
      "12                              NaN  \n",
      "13                         0.037898  \n",
      "14                         0.018262  \n",
      "15                         0.022213  \n",
      "16                              NaN  \n",
      "17                              NaN  \n",
      "18                         0.049207  \n",
      "19                         0.040517  \n",
      "20                              NaN  \n",
      "21                              NaN  \n",
      "22                              NaN  \n",
      "23                              NaN  \n",
      "24                              NaN  \n",
      "25                              NaN  \n",
      "26                              NaN  \n",
      "27                              NaN  \n",
      "28                              NaN  \n",
      "29                         0.041520  \n",
      "..                              ...  \n",
      "33                              NaN  \n",
      "34                              NaN  \n",
      "35                         0.023450  \n",
      "36                              NaN  \n",
      "37                              NaN  \n",
      "38                              NaN  \n",
      "39                              NaN  \n",
      "40                         0.028319  \n",
      "41                              NaN  \n",
      "42                              NaN  \n",
      "43                              NaN  \n",
      "44                         0.035320  \n",
      "45                              NaN  \n",
      "46                              NaN  \n",
      "47                         0.039725  \n",
      "48                              NaN  \n",
      "49                              NaN  \n",
      "50                              NaN  \n",
      "51                              NaN  \n",
      "52                         0.032254  \n",
      "53                         0.024083  \n",
      "54                         0.030919  \n",
      "55                         0.033637  \n",
      "56                              NaN  \n",
      "57                              NaN  \n",
      "58                              NaN  \n",
      "59                         0.024473  \n",
      "60                         0.024236  \n",
      "61                         0.026379  \n",
      "62                         0.031519  \n",
      "\n",
      "[63 rows x 76 columns]\n"
     ]
    }
   ],
   "source": [
    "print(data)"
   ]
  },
  {
   "cell_type": "code",
   "execution_count": 28,
   "metadata": {},
   "outputs": [
    {
     "name": "stdout",
     "output_type": "stream",
     "text": [
      "(63, 76)\n",
      "['Unnamed: 0' 'Unnamed: 1' 'Valor' 'Índice España = 100' 'Unnamed: 4'\n",
      " 'Valor.1' 'Índice España = 100.1' 'Tasa de Variación Interanual'\n",
      " 'Unnamed: 8' 'Valor.2' 'Índice España = 100.2'\n",
      " 'Tasa de Variación Interanual.1' 'Unnamed: 12' 'Valor.3'\n",
      " 'Índice España = 100.3' 'Tasa de Variación Interanual.2' 'Unnamed: 16'\n",
      " 'Valor.4' 'Índice España = 100.4' 'Tasa de Variación Interanual.3'\n",
      " 'Unnamed: 20' 'Valor.5' 'Índice España = 100.5'\n",
      " 'Tasa de Variación Interanual.4' 'Unnamed: 24' 'Valor.6'\n",
      " 'Índice España = 100.6' 'Tasa de Variación Interanual.5' 'Unnamed: 28'\n",
      " 'Valor.7' 'Índice España = 100.7' 'Tasa de Variación Interanual.6'\n",
      " 'Unnamed: 32' 'Valor.8' 'Índice España = 100.8'\n",
      " 'Tasa de Variación Interanual.7' 'Unnamed: 36' 'Valor.9'\n",
      " 'Índice España = 100.9' 'Tasa de Variación Interanual.8' 'Unnamed: 40'\n",
      " 'Valor.10' 'Índice España = 100.10' 'Tasa de Variación Interanual.9'\n",
      " 'Unnamed: 44' 'Valor.11' 'Índice España = 100.11'\n",
      " 'Tasa de Variación Interanual.10' 'Unnamed: 48' 'Valor.12'\n",
      " 'Índice España = 100.12' 'Tasa de Variación Interanual.11' 'Unnamed: 52'\n",
      " 'Valor.13' 'Índice España = 100.13' 'Tasa de Variación Interanual.12'\n",
      " 'Unnamed: 56' 'Valor.14' 'Índice España = 100.14'\n",
      " 'Tasa de Variación Interanual.13' 'Unnamed: 60' 'Valor.15'\n",
      " 'Índice España = 100.15' 'Tasa de Variación Interanual.14' 'Unnamed: 64'\n",
      " 'Valor.16' 'Índice España = 100.16' 'Tasa de Variación Interanual.15'\n",
      " 'Unnamed: 68' 'Valor.17' 'Índice España = 100.17'\n",
      " 'Tasa de Variación Interanual.16' 'Unnamed: 72' 'Valor.18'\n",
      " 'Índice España = 100.18' 'Tasa de Variación Interanual.17']\n"
     ]
    }
   ],
   "source": [
    "print(data.shape)\n",
    "print(data.columns.values)"
   ]
  },
  {
   "cell_type": "markdown",
   "metadata": {},
   "source": [
    "Data include Actual GDP per Capita values in Euros and as a % of all Spain for years from 2010 to 2018. We want to get rid of all \"unnamed\" columns as these are blank except \"Unnamed: 1\" which is the region name.\n",
    "1. First we rename unknown\n",
    "2. Use a regex instruction to drop \"Unnamed columns\""
   ]
  },
  {
   "cell_type": "code",
   "execution_count": 32,
   "metadata": {},
   "outputs": [
    {
     "name": "stdout",
     "output_type": "stream",
     "text": [
      "['Unnamed: 0' 'Region' 'Valor' 'Índice España = 100' 'Unnamed: 4'\n",
      " 'Valor.1' 'Índice España = 100.1' 'Tasa de Variación Interanual'\n",
      " 'Unnamed: 8' 'Valor.2' 'Índice España = 100.2'\n",
      " 'Tasa de Variación Interanual.1' 'Unnamed: 12' 'Valor.3'\n",
      " 'Índice España = 100.3' 'Tasa de Variación Interanual.2' 'Unnamed: 16'\n",
      " 'Valor.4' 'Índice España = 100.4' 'Tasa de Variación Interanual.3'\n",
      " 'Unnamed: 20' 'Valor.5' 'Índice España = 100.5'\n",
      " 'Tasa de Variación Interanual.4' 'Unnamed: 24' 'Valor.6'\n",
      " 'Índice España = 100.6' 'Tasa de Variación Interanual.5' 'Unnamed: 28'\n",
      " 'Valor.7' 'Índice España = 100.7' 'Tasa de Variación Interanual.6'\n",
      " 'Unnamed: 32' 'Valor.8' 'Índice España = 100.8'\n",
      " 'Tasa de Variación Interanual.7' 'Unnamed: 36' 'Valor.9'\n",
      " 'Índice España = 100.9' 'Tasa de Variación Interanual.8' 'Unnamed: 40'\n",
      " 'Valor.10' 'Índice España = 100.10' 'Tasa de Variación Interanual.9'\n",
      " 'Unnamed: 44' 'Valor.11' 'Índice España = 100.11'\n",
      " 'Tasa de Variación Interanual.10' 'Unnamed: 48' 'Valor.12'\n",
      " 'Índice España = 100.12' 'Tasa de Variación Interanual.11' 'Unnamed: 52'\n",
      " 'Valor.13' 'Índice España = 100.13' 'Tasa de Variación Interanual.12'\n",
      " 'Unnamed: 56' 'Valor.14' 'Índice España = 100.14'\n",
      " 'Tasa de Variación Interanual.13' 'Unnamed: 60' 'Valor.15'\n",
      " 'Índice España = 100.15' 'Tasa de Variación Interanual.14' 'Unnamed: 64'\n",
      " 'Valor.16' 'Índice España = 100.16' 'Tasa de Variación Interanual.15'\n",
      " 'Unnamed: 68' 'Valor.17' 'Índice España = 100.17'\n",
      " 'Tasa de Variación Interanual.16' 'Unnamed: 72' 'Valor.18'\n",
      " 'Índice España = 100.18' 'Tasa de Variación Interanual.17']\n"
     ]
    }
   ],
   "source": [
    "data.rename(columns={'Unnamed: 1':'Region'}, inplace=True)\n",
    "print(data.columns.values)"
   ]
  },
  {
   "cell_type": "code",
   "execution_count": 33,
   "metadata": {},
   "outputs": [
    {
     "name": "stdout",
     "output_type": "stream",
     "text": [
      "['Region' 'Valor' 'Índice España = 100' 'Valor.1' 'Índice España = 100.1'\n",
      " 'Tasa de Variación Interanual' 'Valor.2' 'Índice España = 100.2'\n",
      " 'Tasa de Variación Interanual.1' 'Valor.3' 'Índice España = 100.3'\n",
      " 'Tasa de Variación Interanual.2' 'Valor.4' 'Índice España = 100.4'\n",
      " 'Tasa de Variación Interanual.3' 'Valor.5' 'Índice España = 100.5'\n",
      " 'Tasa de Variación Interanual.4' 'Valor.6' 'Índice España = 100.6'\n",
      " 'Tasa de Variación Interanual.5' 'Valor.7' 'Índice España = 100.7'\n",
      " 'Tasa de Variación Interanual.6' 'Valor.8' 'Índice España = 100.8'\n",
      " 'Tasa de Variación Interanual.7' 'Valor.9' 'Índice España = 100.9'\n",
      " 'Tasa de Variación Interanual.8' 'Valor.10' 'Índice España = 100.10'\n",
      " 'Tasa de Variación Interanual.9' 'Valor.11' 'Índice España = 100.11'\n",
      " 'Tasa de Variación Interanual.10' 'Valor.12' 'Índice España = 100.12'\n",
      " 'Tasa de Variación Interanual.11' 'Valor.13' 'Índice España = 100.13'\n",
      " 'Tasa de Variación Interanual.12' 'Valor.14' 'Índice España = 100.14'\n",
      " 'Tasa de Variación Interanual.13' 'Valor.15' 'Índice España = 100.15'\n",
      " 'Tasa de Variación Interanual.14' 'Valor.16' 'Índice España = 100.16'\n",
      " 'Tasa de Variación Interanual.15' 'Valor.17' 'Índice España = 100.17'\n",
      " 'Tasa de Variación Interanual.16' 'Valor.18' 'Índice España = 100.18'\n",
      " 'Tasa de Variación Interanual.17']\n"
     ]
    }
   ],
   "source": [
    "data = data.drop(data.filter(regex='Unnamed').columns, axis=1)\n",
    "print(data.columns.values)"
   ]
  },
  {
   "cell_type": "code",
   "execution_count": 37,
   "metadata": {},
   "outputs": [
    {
     "name": "stdout",
     "output_type": "stream",
     "text": [
      "Region                              object\n",
      "Valor                                int64\n",
      "Índice España = 100                float64\n",
      "Valor.1                              int64\n",
      "Índice España = 100.1              float64\n",
      "Tasa de Variación Interanual       float64\n",
      "Valor.2                              int64\n",
      "Índice España = 100.2              float64\n",
      "Tasa de Variación Interanual.1     float64\n",
      "Valor.3                              int64\n",
      "Índice España = 100.3              float64\n",
      "Tasa de Variación Interanual.2     float64\n",
      "Valor.4                              int64\n",
      "Índice España = 100.4              float64\n",
      "Tasa de Variación Interanual.3     float64\n",
      "Valor.5                              int64\n",
      "Índice España = 100.5              float64\n",
      "Tasa de Variación Interanual.4     float64\n",
      "Valor.6                              int64\n",
      "Índice España = 100.6              float64\n",
      "Tasa de Variación Interanual.5     float64\n",
      "Valor.7                              int64\n",
      "Índice España = 100.7              float64\n",
      "Tasa de Variación Interanual.6     float64\n",
      "Valor.8                              int64\n",
      "Índice España = 100.8              float64\n",
      "Tasa de Variación Interanual.7     float64\n",
      "Valor.9                              int64\n",
      "Índice España = 100.9              float64\n",
      "Tasa de Variación Interanual.8     float64\n",
      "Valor.10                             int64\n",
      "Índice España = 100.10             float64\n",
      "Tasa de Variación Interanual.9     float64\n",
      "Valor.11                             int64\n",
      "Índice España = 100.11             float64\n",
      "Tasa de Variación Interanual.10    float64\n",
      "Valor.12                             int64\n",
      "Índice España = 100.12             float64\n",
      "Tasa de Variación Interanual.11    float64\n",
      "Valor.13                             int64\n",
      "Índice España = 100.13             float64\n",
      "Tasa de Variación Interanual.12    float64\n",
      "Valor.14                             int64\n",
      "Índice España = 100.14             float64\n",
      "Tasa de Variación Interanual.13    float64\n",
      "Valor.15                             int64\n",
      "Índice España = 100.15             float64\n",
      "Tasa de Variación Interanual.14    float64\n",
      "Valor.16                             int64\n",
      "Índice España = 100.16             float64\n",
      "Tasa de Variación Interanual.15    float64\n",
      "Valor.17                           float64\n",
      "Índice España = 100.17             float64\n",
      "Tasa de Variación Interanual.16    float64\n",
      "Valor.18                           float64\n",
      "Índice España = 100.18             float64\n",
      "Tasa de Variación Interanual.17    float64\n",
      "dtype: object\n"
     ]
    }
   ],
   "source": [
    "print(data.dtypes)"
   ]
  },
  {
   "cell_type": "markdown",
   "metadata": {},
   "source": [
    "To draw line charts we want to seperate into three dataframes of year x region, one for value, one for % of Spanish total and one for % growth"
   ]
  },
  {
   "cell_type": "code",
   "execution_count": 48,
   "metadata": {},
   "outputs": [],
   "source": [
    "Value=data.filter(regex='Valor', axis=1)\n",
    "Index=data.filter(regex='Índice', axis=1)\n",
    "Growth=data.filter(regex='Tasa', axis=1)"
   ]
  },
  {
   "cell_type": "code",
   "execution_count": 49,
   "metadata": {},
   "outputs": [
    {
     "name": "stdout",
     "output_type": "stream",
     "text": [
      "    Valor  Valor.1  Valor.2  Valor.3  Valor.4  Valor.5  Valor.6  Valor.7  \\\n",
      "0   11823    12735    13565    14553    15522    16529    17550    18459   \n",
      "1   15144    15980    16887    17574    18162    18927    19682    20828   \n",
      "2   12070    12890    13633    14335    15483    16370    17378    18041   \n",
      "3   10686    11313    11959    13069    14149    14978    16300    17445   \n",
      "4   10573    11444    12468    13321    14057    14766    16304    17154   \n",
      "5   12939    13275    13940    14920    16148    17188    17738    18265   \n",
      "6   10371    11214    11714    13408    13937    14299    15343    16511   \n",
      "7   11749    13035    13563    14450    15627    17009    17777    18302   \n",
      "8   12047    13072    14281    15355    16305    17580    18621    19840   \n",
      "9   16692    17917    19227    20374    21535    22873    24480    26141   \n",
      "10  16032    17747    19047    20193    21081    21889    23463    25666   \n",
      "11  16678    17947    19126    19637    20599    22280    23590    24937   \n",
      "12  16853    17953    19286    20532    21789    23198    24858    26437   \n",
      "13  13382    14468    15361    16259    17310    18781    20399    21759   \n",
      "14  20030    21256    21684    21914    22710    23677    24746    25502   \n",
      "15  15570    16759    17476    18227    18778    19595    20422    21167   \n",
      "16  16126    17369    18003    18711    19047    19593    20503    21155   \n",
      "17  14962    16089    16897    17696    18484    19597    20334    21180   \n",
      "18  14891    16095    17080    17809    18765    20019    21227    22436   \n",
      "19  14445    15441    16430    17415    18468    19645    20838    22082   \n",
      "20  12575    13126    13651    14275    15406    15887    17022    18415   \n",
      "21  17667    18473    19492    20854    22207    23665    24760    26177   \n",
      "22  13133    14228    14990    15720    16527    18122    19342    20473   \n",
      "23  14522    15622    17419    18749    19915    21334    22404    24558   \n",
      "24  12633    13999    14845    16090    16978    17715    18771    19692   \n",
      "25  15861    16490    17803    18732    19476    20797    21978    22812   \n",
      "26  15768    16344    17820    18908    20277    20521    21719    23107   \n",
      "27  16021    17142    18104    18874    19991    21415    22642    23856   \n",
      "28  11127    11932    12820    13772    14863    15244    16800    17879   \n",
      "29  12431    13425    14296    15219    16028    17141    18254    19322   \n",
      "..    ...      ...      ...      ...      ...      ...      ...      ...   \n",
      "33  13831    15272    16342    17036    17549    19042    19656    20610   \n",
      "34  12575    13640    14234    15258    15737    17301    18546    19584   \n",
      "35  19383    20899    21862    22846    23991    25205    26828    28124   \n",
      "36  19294    20715    21474    22487    23611    25182    26776    28201   \n",
      "37  19441    21348    22806    23619    24697    25593    27681    28385   \n",
      "38  19183    20951    22374    23639    24223    24219    26463    27637   \n",
      "39  20154    21911    23725    24436    26072    25576    26611    27609   \n",
      "40  15185    16461    17217    17857    18660    19574    20770    21610   \n",
      "41  14083    15393    15953    16564    17444    18349    19257    19730   \n",
      "42  18342    19386    19893    20287    20686    22408    23840    23634   \n",
      "43  15218    16524    17476    18201    19052    19798    21149    22493   \n",
      "44  10145    10851    11567    12326    13118    14194    15058    16102   \n",
      "45  10166    10828    11516    12313    12824    14226    14989    16121   \n",
      "46  10111    10889    11649    12347    13599    14141    15171    16069   \n",
      "47  12372    13341    14244    15228    16341    17667    19086    20470   \n",
      "48  12710    13626    14851    15875    17046    18448    19808    21412   \n",
      "49  11806    12851    13398    14316    15295    17148    18403    19237   \n",
      "50  11159    12320    13473    14286    14973    16154    17386    18364   \n",
      "51  12645    13574    14127    15147    16394    17475    19086    20552   \n",
      "52  21333    23016    24014    25085    26484    28100    30200    31617   \n",
      "53  13328    14336    15190    16055    16841    17874    18967    19923   \n",
      "54  20287    21484    22652    23733    25034    26594    28185    29451   \n",
      "55  19542    20932    22117    23306    24732    26502    28555    30259   \n",
      "56  22065    23856    25696    26951    28654    30834    33904    36297   \n",
      "57  18620    19529    20699    22049    23329    25068    26509    27942   \n",
      "58  20017    22030    22948    23820    25353    26976    29572    31399   \n",
      "59  17813    18919    19673    20838    21603    22806    24338    25492   \n",
      "60  14350    14753    15671    16685    17540    18421    19479    20404   \n",
      "61  14132    14425    15203    16358    17524    18223    19078    19426   \n",
      "62  15935    17160    18088    19041    20099    21313    22722    23893   \n",
      "\n",
      "    Valor.8  Valor.9  Valor.10  Valor.11  Valor.12  Valor.13  Valor.14  \\\n",
      "0     18625    17747     17599     17318     16666     16379     16576   \n",
      "1     20842    19156     18574     17240     17002     16688     17426   \n",
      "2     18041    16874     16998     16815     16170     15731     15548   \n",
      "3     17621    16994     16818     16554     15704     15852     15995   \n",
      "4     17414    16610     16386     16282     15946     15781     16292   \n",
      "5     18621    17068     17407     18008     17578     16289     16229   \n",
      "6     16758    16419     16439     16364     14763     15758     15105   \n",
      "7     18498    17843     17670     17212     16344     16067     16416   \n",
      "8     19993    19246     18947     18716     18281     17684     18031   \n",
      "9     26650    25391     25603     25227     24267     24417     24694   \n",
      "10    27084    25539     26071     25919     24785     25450     25204   \n",
      "11    25856    24393     24544     24302     24037     24329     24563   \n",
      "12    26669    25506     25652     25203     24180     24191     24595   \n",
      "13    22336    21110     21250     20895     20005     19445     19508   \n",
      "14    25717    24260     24084     23762     23224     22924     23473   \n",
      "15    21186    20006     20091     19792     19017     18761     18803   \n",
      "16    21126    20104     19825     19583     18777     18844     18896   \n",
      "17    21251    19898     20381     20020     19279     18670     18702   \n",
      "18    22850    21830     21754     21285     20559     19965     20360   \n",
      "19    22421    21769     21827     21672     21150     20688     20877   \n",
      "20    18865    18337     18289     18304     18124     17661     17760   \n",
      "21    27058    25802     25918     26093     25875     25026     25041   \n",
      "22    20804    20587     20490     20126     19696     19049     19133   \n",
      "23    25190    24255     23986     24185     23025     22852     22805   \n",
      "24    20043    19969     19177     19106     18585     18115     18360   \n",
      "25    22266    21324     21465     20962     20140     19806     20247   \n",
      "26    23582    22445     23291     23242     22135     22442     22992   \n",
      "27    23875    22969     23546     23038     22277     22053     22467   \n",
      "28    18254    17890     18263     18568     18656     18002     17925   \n",
      "29    19697    18889     18765     18435     17864     17557     17298   \n",
      "..      ...      ...       ...       ...       ...       ...       ...   \n",
      "33    21188    20009     20105     19993     19408     18836     18042   \n",
      "34    19676    18600     17924     17324     16560     16407     16388   \n",
      "35    28332    27128     27192     26677     26041     25945     26579   \n",
      "36    28429    27149     27157     26668     26004     25941     26615   \n",
      "37    28178    27058     27175     26512     25963     25516     26032   \n",
      "38    28190    27460     27382     26950     26788     27086     27287   \n",
      "39    27878    26866     27348     26740     25954     25758     26463   \n",
      "40    21878    20621     20511     20124     19288     19176     19669   \n",
      "41    19887    18692     18454     17810     17084     16974     17525   \n",
      "42    23362    22204     22247     22479     21293     21314     21685   \n",
      "43    22967    21640     21589     21248     20424     20293     20780   \n",
      "44    16633    16204     16381     15916     15313     15280     15274   \n",
      "45    16823    16350     16320     15917     15073     15082     15018   \n",
      "46    16315    15959     16484     15914     15715     15614     15708   \n",
      "47    21226    20490     20574     20143     19533     19508     19706   \n",
      "48    22241    21863     22070     21499     20667     20606     20538   \n",
      "49    19534    18796     19410     19363     19095     19212     19877   \n",
      "50    19313    18418     19010     19276     19135     18844     18866   \n",
      "51    21315    20199     19755     19105     18472     18530     18937   \n",
      "52    32155    31405     31009     31046     30455     30188     30610   \n",
      "53    20354    19190     19213     18646     18168     18122     18191   \n",
      "54    30128    28892     28752     28533     27485     27442     28044   \n",
      "55    31243    29828     30114     29842     29275     28858     29509   \n",
      "56    37675    34600     34130     34191     33430     33638     34616   \n",
      "57    29238    28391     28738     28233     27735     27232     28014   \n",
      "58    31666    30038     30552     30502     29903     29328     29601   \n",
      "59    25986    24861     25052     24649     23917     23726     24348   \n",
      "60    20765    20109     19706     19115     18227     18434     18299   \n",
      "61    19546    18883     18381     17773     16668     16670     16685   \n",
      "62    24275    23272     23215     22904     22234     22014     22340   \n",
      "\n",
      "    Valor.15  Valor.16  Valor.17  Valor.18  \n",
      "0      17356     17812   18557.0   19132.0  \n",
      "1      18550     19097       NaN       NaN  \n",
      "2      16048     16703       NaN       NaN  \n",
      "3      16935     17384       NaN       NaN  \n",
      "4      17085     17272       NaN       NaN  \n",
      "5      17189     18067       NaN       NaN  \n",
      "6      16983     16953       NaN       NaN  \n",
      "7      17044     17456       NaN       NaN  \n",
      "8      18503     19011       NaN       NaN  \n",
      "9      25214     26352   27650.0   28640.0  \n",
      "10     25484     27369       NaN       NaN  \n",
      "11     24129     24263       NaN       NaN  \n",
      "12     25306     26414       NaN       NaN  \n",
      "13     20351     20827   22244.0   23087.0  \n",
      "14     24446     25483   26284.0   26764.0  \n",
      "15     19340     19916   20574.0   21031.0  \n",
      "16     19346     20235       NaN       NaN  \n",
      "17     19333     19571       NaN       NaN  \n",
      "18     20875     21622   22700.0   23817.0  \n",
      "19     21723     22590   23447.0   24397.0  \n",
      "20     18189     18568       NaN       NaN  \n",
      "21     25861     27206       NaN       NaN  \n",
      "22     19806     20101       NaN       NaN  \n",
      "23     24195     26164       NaN       NaN  \n",
      "24     19299     20484       NaN       NaN  \n",
      "25     21168     21512       NaN       NaN  \n",
      "26     23903     24509       NaN       NaN  \n",
      "27     23362     24308       NaN       NaN  \n",
      "28     18684     19228       NaN       NaN  \n",
      "29     18229     18964   19822.0   20645.0  \n",
      "..       ...       ...       ...       ...  \n",
      "33     18255     19504       NaN       NaN  \n",
      "34     17072     17870       NaN       NaN  \n",
      "35     27765     28845   30064.0   30769.0  \n",
      "36     27753     28862       NaN       NaN  \n",
      "37     27071     28432       NaN       NaN  \n",
      "38     28324     27726       NaN       NaN  \n",
      "39     28191     29724       NaN       NaN  \n",
      "40     20451     21143   22035.0   22659.0  \n",
      "41     18285     19336       NaN       NaN  \n",
      "42     23147     24449       NaN       NaN  \n",
      "43     21422     21714       NaN       NaN  \n",
      "44     16111     16774   17554.0   18174.0  \n",
      "45     15918     16439       NaN       NaN  \n",
      "46     16438     17342       NaN       NaN  \n",
      "47     20660     21363   22404.0   23294.0  \n",
      "48     21718     22517       NaN       NaN  \n",
      "49     20956     21096       NaN       NaN  \n",
      "50     19656     20877       NaN       NaN  \n",
      "51     19631     20248       NaN       NaN  \n",
      "52     31917     32857   33825.0   34916.0  \n",
      "53     19287     19824   20637.0   21134.0  \n",
      "54     28925     29859   30855.0   31809.0  \n",
      "55     30568     31588   32970.0   34079.0  \n",
      "56     35248     36065       NaN       NaN  \n",
      "57     29315     30378       NaN       NaN  \n",
      "58     30456     31486       NaN       NaN  \n",
      "59     25209     25412   26192.0   26833.0  \n",
      "60     18938     19374   19558.0   20032.0  \n",
      "61     17219     17730   18007.0   18482.0  \n",
      "62     23296     24085   25064.0   25854.0  \n",
      "\n",
      "[63 rows x 19 columns]\n"
     ]
    }
   ],
   "source": [
    "print(Value)"
   ]
  },
  {
   "cell_type": "markdown",
   "metadata": {},
   "source": [
    "We need to, transpose, add in the region names and convert 'Valor' to the relevant year."
   ]
  },
  {
   "cell_type": "code",
   "execution_count": 55,
   "metadata": {},
   "outputs": [
    {
     "name": "stdout",
     "output_type": "stream",
     "text": [
      "['ANDALUCÍA' 'Almería' 'Cádiz' 'Córdoba' 'Granada' 'Huelva' 'Jaén'\n",
      " 'Málaga' 'Sevilla' 'ARAGÓN' 'Huesca' 'Teruel' 'Zaragoza'\n",
      " 'ASTURIAS, PRINCIPADO DE' 'BALEARS, ILLES' 'CANARIAS' 'Palmas, Las'\n",
      " 'Santa Cruz de Tenerife' 'CANTABRIA' 'CASTILLA Y LEÓN' 'Ávila' 'Burgos'\n",
      " 'León' 'Palencia' 'Salamanca' 'Segovia' 'Soria' 'Valladolid' 'Zamora'\n",
      " 'CASTILLA - LA MANCHA' 'Albacete' 'Ciudad Real' 'Cuenca' 'Guadalajara'\n",
      " 'Toledo' 'CATALUÑA' 'Barcelona' 'Girona' 'Lleida' 'Tarragona'\n",
      " 'COMUNITAT VALENCIANA' 'Alicante/Alacant' 'Castellón/Castelló'\n",
      " 'Valencia/València' 'EXTREMADURA' 'Badajoz' 'Cáceres' 'GALICIA'\n",
      " 'Coruña, A' 'Lugo' 'Ourense' 'Pontevedra' 'MADRID, COMUNIDAD DE'\n",
      " 'MURCIA, REGIÓN DE' 'NAVARRA, COMUNIDAD FORAL DE' 'PAÍS VASCO'\n",
      " 'Araba/Álava' 'Bizkaia' 'Gipuzkoa' 'RIOJA, LA' 'CEUTA' 'MELILLA'\n",
      " 'Total Nacional']\n"
     ]
    }
   ],
   "source": [
    "Value_t=Value.transpose()\n",
    "Value_t.columns=data['Region']\n",
    "print(Value_t.columns.values)"
   ]
  },
  {
   "cell_type": "code",
   "execution_count": 56,
   "metadata": {},
   "outputs": [],
   "source": [
    "dti = pd.date_range('2000', periods=19, freq='A')"
   ]
  },
  {
   "cell_type": "code",
   "execution_count": 57,
   "metadata": {
    "collapsed": true
   },
   "outputs": [
    {
     "name": "stdout",
     "output_type": "stream",
     "text": [
      "DatetimeIndex(['2000-12-31', '2001-12-31', '2002-12-31', '2003-12-31',\n",
      "               '2004-12-31', '2005-12-31', '2006-12-31', '2007-12-31',\n",
      "               '2008-12-31', '2009-12-31', '2010-12-31', '2011-12-31',\n",
      "               '2012-12-31', '2013-12-31', '2014-12-31', '2015-12-31',\n",
      "               '2016-12-31', '2017-12-31', '2018-12-31'],\n",
      "              dtype='datetime64[ns]', freq='A-DEC')\n"
     ]
    }
   ],
   "source": []
  },
  {
   "cell_type": "code",
   "execution_count": 73,
   "metadata": {},
   "outputs": [
    {
     "name": "stdout",
     "output_type": "stream",
     "text": [
      "Region      ANDALUCÍA  Almería    Cádiz  Córdoba  Granada   Huelva     Jaén  \\\n",
      "2000-12-31    11823.0  15144.0  12070.0  10686.0  10573.0  12939.0  10371.0   \n",
      "2001-12-31    12735.0  15980.0  12890.0  11313.0  11444.0  13275.0  11214.0   \n",
      "2002-12-31    13565.0  16887.0  13633.0  11959.0  12468.0  13940.0  11714.0   \n",
      "2003-12-31    14553.0  17574.0  14335.0  13069.0  13321.0  14920.0  13408.0   \n",
      "2004-12-31    15522.0  18162.0  15483.0  14149.0  14057.0  16148.0  13937.0   \n",
      "2005-12-31    16529.0  18927.0  16370.0  14978.0  14766.0  17188.0  14299.0   \n",
      "2006-12-31    17550.0  19682.0  17378.0  16300.0  16304.0  17738.0  15343.0   \n",
      "2007-12-31    18459.0  20828.0  18041.0  17445.0  17154.0  18265.0  16511.0   \n",
      "2008-12-31    18625.0  20842.0  18041.0  17621.0  17414.0  18621.0  16758.0   \n",
      "2009-12-31    17747.0  19156.0  16874.0  16994.0  16610.0  17068.0  16419.0   \n",
      "2010-12-31    17599.0  18574.0  16998.0  16818.0  16386.0  17407.0  16439.0   \n",
      "2011-12-31    17318.0  17240.0  16815.0  16554.0  16282.0  18008.0  16364.0   \n",
      "2012-12-31    16666.0  17002.0  16170.0  15704.0  15946.0  17578.0  14763.0   \n",
      "2013-12-31    16379.0  16688.0  15731.0  15852.0  15781.0  16289.0  15758.0   \n",
      "2014-12-31    16576.0  17426.0  15548.0  15995.0  16292.0  16229.0  15105.0   \n",
      "2015-12-31    17356.0  18550.0  16048.0  16935.0  17085.0  17189.0  16983.0   \n",
      "2016-12-31    17812.0  19097.0  16703.0  17384.0  17272.0  18067.0  16953.0   \n",
      "2017-12-31    18557.0      NaN      NaN      NaN      NaN      NaN      NaN   \n",
      "2018-12-31    19132.0      NaN      NaN      NaN      NaN      NaN      NaN   \n",
      "\n",
      "Region       Málaga  Sevilla   ARAGÓN       ...        MURCIA, REGIÓN DE  \\\n",
      "2000-12-31  11749.0  12047.0  16692.0       ...                  13328.0   \n",
      "2001-12-31  13035.0  13072.0  17917.0       ...                  14336.0   \n",
      "2002-12-31  13563.0  14281.0  19227.0       ...                  15190.0   \n",
      "2003-12-31  14450.0  15355.0  20374.0       ...                  16055.0   \n",
      "2004-12-31  15627.0  16305.0  21535.0       ...                  16841.0   \n",
      "2005-12-31  17009.0  17580.0  22873.0       ...                  17874.0   \n",
      "2006-12-31  17777.0  18621.0  24480.0       ...                  18967.0   \n",
      "2007-12-31  18302.0  19840.0  26141.0       ...                  19923.0   \n",
      "2008-12-31  18498.0  19993.0  26650.0       ...                  20354.0   \n",
      "2009-12-31  17843.0  19246.0  25391.0       ...                  19190.0   \n",
      "2010-12-31  17670.0  18947.0  25603.0       ...                  19213.0   \n",
      "2011-12-31  17212.0  18716.0  25227.0       ...                  18646.0   \n",
      "2012-12-31  16344.0  18281.0  24267.0       ...                  18168.0   \n",
      "2013-12-31  16067.0  17684.0  24417.0       ...                  18122.0   \n",
      "2014-12-31  16416.0  18031.0  24694.0       ...                  18191.0   \n",
      "2015-12-31  17044.0  18503.0  25214.0       ...                  19287.0   \n",
      "2016-12-31  17456.0  19011.0  26352.0       ...                  19824.0   \n",
      "2017-12-31      NaN      NaN  27650.0       ...                  20637.0   \n",
      "2018-12-31      NaN      NaN  28640.0       ...                  21134.0   \n",
      "\n",
      "Region      NAVARRA, COMUNIDAD FORAL DE  PAÍS VASCO  Araba/Álava  Bizkaia  \\\n",
      "2000-12-31                      20287.0     19542.0      22065.0  18620.0   \n",
      "2001-12-31                      21484.0     20932.0      23856.0  19529.0   \n",
      "2002-12-31                      22652.0     22117.0      25696.0  20699.0   \n",
      "2003-12-31                      23733.0     23306.0      26951.0  22049.0   \n",
      "2004-12-31                      25034.0     24732.0      28654.0  23329.0   \n",
      "2005-12-31                      26594.0     26502.0      30834.0  25068.0   \n",
      "2006-12-31                      28185.0     28555.0      33904.0  26509.0   \n",
      "2007-12-31                      29451.0     30259.0      36297.0  27942.0   \n",
      "2008-12-31                      30128.0     31243.0      37675.0  29238.0   \n",
      "2009-12-31                      28892.0     29828.0      34600.0  28391.0   \n",
      "2010-12-31                      28752.0     30114.0      34130.0  28738.0   \n",
      "2011-12-31                      28533.0     29842.0      34191.0  28233.0   \n",
      "2012-12-31                      27485.0     29275.0      33430.0  27735.0   \n",
      "2013-12-31                      27442.0     28858.0      33638.0  27232.0   \n",
      "2014-12-31                      28044.0     29509.0      34616.0  28014.0   \n",
      "2015-12-31                      28925.0     30568.0      35248.0  29315.0   \n",
      "2016-12-31                      29859.0     31588.0      36065.0  30378.0   \n",
      "2017-12-31                      30855.0     32970.0          NaN      NaN   \n",
      "2018-12-31                      31809.0     34079.0          NaN      NaN   \n",
      "\n",
      "Region      Gipuzkoa  RIOJA, LA    CEUTA  MELILLA  Total Nacional  \n",
      "2000-12-31   20017.0    17813.0  14350.0  14132.0         15935.0  \n",
      "2001-12-31   22030.0    18919.0  14753.0  14425.0         17160.0  \n",
      "2002-12-31   22948.0    19673.0  15671.0  15203.0         18088.0  \n",
      "2003-12-31   23820.0    20838.0  16685.0  16358.0         19041.0  \n",
      "2004-12-31   25353.0    21603.0  17540.0  17524.0         20099.0  \n",
      "2005-12-31   26976.0    22806.0  18421.0  18223.0         21313.0  \n",
      "2006-12-31   29572.0    24338.0  19479.0  19078.0         22722.0  \n",
      "2007-12-31   31399.0    25492.0  20404.0  19426.0         23893.0  \n",
      "2008-12-31   31666.0    25986.0  20765.0  19546.0         24275.0  \n",
      "2009-12-31   30038.0    24861.0  20109.0  18883.0         23272.0  \n",
      "2010-12-31   30552.0    25052.0  19706.0  18381.0         23215.0  \n",
      "2011-12-31   30502.0    24649.0  19115.0  17773.0         22904.0  \n",
      "2012-12-31   29903.0    23917.0  18227.0  16668.0         22234.0  \n",
      "2013-12-31   29328.0    23726.0  18434.0  16670.0         22014.0  \n",
      "2014-12-31   29601.0    24348.0  18299.0  16685.0         22340.0  \n",
      "2015-12-31   30456.0    25209.0  18938.0  17219.0         23296.0  \n",
      "2016-12-31   31486.0    25412.0  19374.0  17730.0         24085.0  \n",
      "2017-12-31       NaN    26192.0  19558.0  18007.0         25064.0  \n",
      "2018-12-31       NaN    26833.0  20032.0  18482.0         25854.0  \n",
      "\n",
      "[19 rows x 63 columns]\n"
     ]
    }
   ],
   "source": [
    "Value_t = Value_t.set_index(dti)\n",
    "print(Value_t)"
   ]
  },
  {
   "cell_type": "markdown",
   "metadata": {},
   "source": [
    "Now repeat for other two data frames...although growth has one fewer year"
   ]
  },
  {
   "cell_type": "code",
   "execution_count": 77,
   "metadata": {},
   "outputs": [],
   "source": [
    "Index_t=Index.transpose()\n",
    "Index_t.columns=data['Region']\n",
    "Index_t = Index_t.set_index(dti)\n",
    "\n",
    "dti_growth=dti[1:19]\n",
    "Growth_t=Growth.transpose()\n",
    "Growth_t.columns=data['Region']\n",
    "Growth_t = Growth_t.set_index(dti_growth)"
   ]
  },
  {
   "cell_type": "code",
   "execution_count": 101,
   "metadata": {},
   "outputs": [],
   "source": [
    "flatui = [\"#9b59b6\", \"#3498db\", \"#95a5a6\", \"#e74c3c\", \"#34495e\", \"#2ecc71\"]\n",
    "sns.set_palette(flatui)"
   ]
  },
  {
   "cell_type": "code",
   "execution_count": 108,
   "metadata": {},
   "outputs": [
    {
     "data": {
      "text/plain": [
       "[Text(0, 0.5, 'GDP per Capita'), Text(0.5, 0, 'Year')]"
      ]
     },
     "execution_count": 108,
     "metadata": {},
     "output_type": "execute_result"
    },
    {
     "data": {
      "image/png": "[encoded data removed]",
      "text/plain": [
       "<Figure size 432x288 with 1 Axes>"
      ]
     },
     "metadata": {
      "needs_background": "light"
     },
     "output_type": "display_data"
    }
   ],
   "source": [
    "list_data = [Value_t.loc[:, \"CATALUÑA\"], Value_t.loc[:, \"ANDALUCÍA\"],  Value_t.loc[:, \"Total Nacional\"]]\n",
    "valplot=sns.lineplot(data=list_data)\n",
    "valplot.set(xlabel='Year', ylabel='GDP per Capita')"
   ]
  },
  {
   "cell_type": "code",
   "execution_count": 103,
   "metadata": {},
   "outputs": [
    {
     "data": {
      "text/plain": [
       "<matplotlib.axes._subplots.AxesSubplot at 0x1f5fbfc8e80>"
      ]
     },
     "execution_count": 103,
     "metadata": {},
     "output_type": "execute_result"
    },
    {
     "data": {
      "image/png": "[encoded data removed]",
      "text/plain": [
       "<Figure size 432x288 with 1 Axes>"
      ]
     },
     "metadata": {
      "needs_background": "light"
     },
     "output_type": "display_data"
    }
   ],
   "source": [
    "list_data = [Index_t.loc[:, \"CATALUÑA\"], Index_t.loc[:, \"ANDALUCÍA\"],  Index_t.loc[:, \"MADRID, COMUNIDAD DE\"]]\n",
    "sns.lineplot(data=list_data)"
   ]
  },
  {
   "cell_type": "code",
   "execution_count": 104,
   "metadata": {},
   "outputs": [
    {
     "data": {
      "text/plain": [
       "<matplotlib.axes._subplots.AxesSubplot at 0x1f5fbfea9b0>"
      ]
     },
     "execution_count": 104,
     "metadata": {},
     "output_type": "execute_result"
    },
    {
     "data": {
      "image/png": "[encoded data removed]",
      "text/plain": [
       "<Figure size 432x288 with 1 Axes>"
      ]
     },
     "metadata": {
      "needs_background": "light"
     },
     "output_type": "display_data"
    }
   ],
   "source": [
    "list_data = [Growth_t.loc[:, \"CATALUÑA\"], Growth_t.loc[:, \"ANDALUCÍA\"],  Growth_t.loc[:, \"Total Nacional\"]]\n",
    "sns.lineplot(data=list_data)"
   ]
  },
  {
   "cell_type": "markdown",
   "metadata": {},
   "source": [
    "Read in Disposable income data"
   ]
  },
  {
   "cell_type": "code",
   "execution_count": 137,
   "metadata": {},
   "outputs": [],
   "source": [
    "inc=pd.read_excel(\"http://www.ine.es/jaxiT3/files/t/es/xlsx/9949.xlsx?nocab=1\", skiprows=7,nrows=20)"
   ]
  },
  {
   "cell_type": "code",
   "execution_count": 128,
   "metadata": {},
   "outputs": [
    {
     "name": "stdout",
     "output_type": "stream",
     "text": [
      "['2008.1' '2009.1' '2010.1' '2011.1' '2012.1' '2013.1' '2014.1' '2015.1'\n",
      " '2016.1' '2017.1' ' ']\n",
      "(20, 11)\n"
     ]
    }
   ],
   "source": [
    "print(inc.columns.values)\n",
    "print(inc.shape)"
   ]
  },
  {
   "cell_type": "code",
   "execution_count": 131,
   "metadata": {},
   "outputs": [
    {
     "name": "stdout",
     "output_type": "stream",
     "text": [
      "                                    2008.1  2009.1  2010.1  2011.1  2012.1  \\\n",
      "0                   Total Nacional   32807   33953   33965   32429   31686   \n",
      "1                     01 Andalucía   29319   30012   29807   28135   27799   \n",
      "2                        02 Aragón   33237   35288   34361   33061   33113   \n",
      "3       03 Asturias, Principado de   33569   35146   34678   32068   31462   \n",
      "4                04 Balears, Illes   32021   33791   33160   32200   31427   \n",
      "5                      05 Canarias   28450   28197   28960   26778   26099   \n",
      "6                     06 Cantabria   33514   34981   32742   30819   30038   \n",
      "7               07 Castilla y León   30045   31574   31232   30454   29981   \n",
      "8          08 Castilla - La Mancha   28244   29455   30324   28105   26829   \n",
      "9                      09 Cataluña   36536   36933   37591   35207   34708   \n",
      "10         10 Comunitat Valenciana   30007   31135   31620   30345   29064   \n",
      "11                  11 Extremadura   24852   27130   26844   25932   24154   \n",
      "12                      12 Galicia   29859   30930   32284   31455   30538   \n",
      "13         13 Madrid, Comunidad de   38484   40861   40249   39337   38241   \n",
      "14            14 Murcia, Región de   30714   30196   29238   27703   27435   \n",
      "15  15 Navarra, Comunidad Foral de   39055   41348   41612   41464   39777   \n",
      "16                   16 País Vasco   40865   42250   41268   39655   38817   \n",
      "17                    17 Rioja, La   31318   32591   31218   30193   30476   \n",
      "18                        18 Ceuta   34131   36893   38254   41195   37429   \n",
      "19                      19 Melilla   38099   38928   41844   40890   42857   \n",
      "\n",
      "    2013.1  2014.1  2015.1  2016.1  2017.1  \n",
      "0    30501   30257   30031   30822   31956  \n",
      "1    26122   25321   24826   26098   28158  \n",
      "2    32864   33183   33991   32211   33428  \n",
      "3    29373   29652   29818   31059   31744  \n",
      "4    29516   30270   30743   34751   36144  \n",
      "5    25714   25643   26050   26606   27104  \n",
      "6    28210   27904   29264   29964   31617  \n",
      "7    29243   28583   28910   29296   30299  \n",
      "8    25537   25986   25615   26188   27055  \n",
      "9    34084   34500   34472   35396   35782  \n",
      "10   26905   26165   25826   26534   28122  \n",
      "11   24497   23056   24846   25425   24375  \n",
      "12   29607   30147   29621   30115   30869  \n",
      "13   36653   36190   35374   35577   37161  \n",
      "14   26457   25129   25409   26364   27905  \n",
      "15   38334   37147   37019   37514   37931  \n",
      "16   39050   39296   37727   38960   39578  \n",
      "17   29386   30787   30449   31485   32911  \n",
      "18   35967   35140   32817   34922   33619  \n",
      "19   40199   40151   35708   40326   38920  \n"
     ]
    }
   ],
   "source": [
    "print(inc)"
   ]
  },
  {
   "cell_type": "code",
   "execution_count": 138,
   "metadata": {},
   "outputs": [],
   "source": [
    "inc=inc.drop(inc.columns[1:11], axis=1)\n"
   ]
  },
  {
   "cell_type": "markdown",
   "metadata": {},
   "source": [
    "Reverse Column order"
   ]
  },
  {
   "cell_type": "code",
   "execution_count": 126,
   "metadata": {},
   "outputs": [],
   "source": [
    "inc=inc[inc.columns[::-1]]\n",
    "\n"
   ]
  },
  {
   "cell_type": "markdown",
   "metadata": {},
   "source": [
    "Put the Region names first"
   ]
  },
  {
   "cell_type": "code",
   "execution_count": 130,
   "metadata": {},
   "outputs": [],
   "source": [
    "cols = list(inc.columns)\n",
    "cols = [cols[-1]] + cols[:-1]\n",
    "inc = inc[cols]"
   ]
  },
  {
   "cell_type": "markdown",
   "metadata": {},
   "source": [
    "Transpose the data frame"
   ]
  },
  {
   "cell_type": "code",
   "execution_count": 132,
   "metadata": {},
   "outputs": [],
   "source": [
    "inc_t=inc.transpose()"
   ]
  },
  {
   "cell_type": "code",
   "execution_count": 136,
   "metadata": {},
   "outputs": [
    {
     "name": "stdout",
     "output_type": "stream",
     "text": [
      "[' ' '2008.1' '2009.1' '2010.1' '2011.1' '2012.1' '2013.1' '2014.1'\n",
      " '2015.1' '2016.1' '2017.1']\n",
      "[ 0  1  2  3  4  5  6  7  8  9 10 11 12 13 14 15 16 17 18 19]\n"
     ]
    }
   ],
   "source": [
    "print(inc.columns.values)\n",
    "print(inc_t.columns.values)"
   ]
  },
  {
   "cell_type": "code",
   "execution_count": 147,
   "metadata": {},
   "outputs": [],
   "source": [
    "inc_t.columns=inc_t.iloc[0]"
   ]
  },
  {
   "cell_type": "code",
   "execution_count": 151,
   "metadata": {},
   "outputs": [],
   "source": [
    "inc_t=inc_t.drop(inc_t.index[[0]])"
   ]
  },
  {
   "cell_type": "code",
   "execution_count": 152,
   "metadata": {},
   "outputs": [
    {
     "name": "stdout",
     "output_type": "stream",
     "text": [
      "       Total Nacional 01 Andalucía 02 Aragón 03 Asturias, Principado de  \\\n",
      "2008.1          32807        29319     33237                      33569   \n",
      "2009.1          33953        30012     35288                      35146   \n",
      "2010.1          33965        29807     34361                      34678   \n",
      "2011.1          32429        28135     33061                      32068   \n",
      "2012.1          31686        27799     33113                      31462   \n",
      "2013.1          30501        26122     32864                      29373   \n",
      "2014.1          30257        25321     33183                      29652   \n",
      "2015.1          30031        24826     33991                      29818   \n",
      "2016.1          30822        26098     32211                      31059   \n",
      "2017.1          31956        28158     33428                      31744   \n",
      "\n",
      "       04 Balears, Illes 05 Canarias 06 Cantabria 07 Castilla y León  \\\n",
      "2008.1             32021       28450        33514              30045   \n",
      "2009.1             33791       28197        34981              31574   \n",
      "2010.1             33160       28960        32742              31232   \n",
      "2011.1             32200       26778        30819              30454   \n",
      "2012.1             31427       26099        30038              29981   \n",
      "2013.1             29516       25714        28210              29243   \n",
      "2014.1             30270       25643        27904              28583   \n",
      "2015.1             30743       26050        29264              28910   \n",
      "2016.1             34751       26606        29964              29296   \n",
      "2017.1             36144       27104        31617              30299   \n",
      "\n",
      "       08 Castilla - La Mancha 09 Cataluña 10 Comunitat Valenciana  \\\n",
      "2008.1                   28244       36536                   30007   \n",
      "2009.1                   29455       36933                   31135   \n",
      "2010.1                   30324       37591                   31620   \n",
      "2011.1                   28105       35207                   30345   \n",
      "2012.1                   26829       34708                   29064   \n",
      "2013.1                   25537       34084                   26905   \n",
      "2014.1                   25986       34500                   26165   \n",
      "2015.1                   25615       34472                   25826   \n",
      "2016.1                   26188       35396                   26534   \n",
      "2017.1                   27055       35782                   28122   \n",
      "\n",
      "       11 Extremadura 12 Galicia 13 Madrid, Comunidad de 14 Murcia, Región de  \\\n",
      "2008.1          24852      29859                   38484                30714   \n",
      "2009.1          27130      30930                   40861                30196   \n",
      "2010.1          26844      32284                   40249                29238   \n",
      "2011.1          25932      31455                   39337                27703   \n",
      "2012.1          24154      30538                   38241                27435   \n",
      "2013.1          24497      29607                   36653                26457   \n",
      "2014.1          23056      30147                   36190                25129   \n",
      "2015.1          24846      29621                   35374                25409   \n",
      "2016.1          25425      30115                   35577                26364   \n",
      "2017.1          24375      30869                   37161                27905   \n",
      "\n",
      "       15 Navarra, Comunidad Foral de 16 País Vasco 17 Rioja, La 18 Ceuta  \\\n",
      "2008.1                          39055         40865        31318    34131   \n",
      "2009.1                          41348         42250        32591    36893   \n",
      "2010.1                          41612         41268        31218    38254   \n",
      "2011.1                          41464         39655        30193    41195   \n",
      "2012.1                          39777         38817        30476    37429   \n",
      "2013.1                          38334         39050        29386    35967   \n",
      "2014.1                          37147         39296        30787    35140   \n",
      "2015.1                          37019         37727        30449    32817   \n",
      "2016.1                          37514         38960        31485    34922   \n",
      "2017.1                          37931         39578        32911    33619   \n",
      "\n",
      "       19 Melilla  \n",
      "2008.1      38099  \n",
      "2009.1      38928  \n",
      "2010.1      41844  \n",
      "2011.1      40890  \n",
      "2012.1      42857  \n",
      "2013.1      40199  \n",
      "2014.1      40151  \n",
      "2015.1      35708  \n",
      "2016.1      40326  \n",
      "2017.1      38920  \n"
     ]
    }
   ],
   "source": [
    "print(inc_t)"
   ]
  },
  {
   "cell_type": "code",
   "execution_count": 153,
   "metadata": {},
   "outputs": [],
   "source": [
    "years= pd.date_range('2008', periods=10, freq='A')"
   ]
  },
  {
   "cell_type": "code",
   "execution_count": 154,
   "metadata": {},
   "outputs": [
    {
     "name": "stdout",
     "output_type": "stream",
     "text": [
      "           Total Nacional 01 Andalucía 02 Aragón 03 Asturias, Principado de  \\\n",
      "2008-12-31          32807        29319     33237                      33569   \n",
      "2009-12-31          33953        30012     35288                      35146   \n",
      "2010-12-31          33965        29807     34361                      34678   \n",
      "2011-12-31          32429        28135     33061                      32068   \n",
      "2012-12-31          31686        27799     33113                      31462   \n",
      "2013-12-31          30501        26122     32864                      29373   \n",
      "2014-12-31          30257        25321     33183                      29652   \n",
      "2015-12-31          30031        24826     33991                      29818   \n",
      "2016-12-31          30822        26098     32211                      31059   \n",
      "2017-12-31          31956        28158     33428                      31744   \n",
      "\n",
      "           04 Balears, Illes 05 Canarias 06 Cantabria 07 Castilla y León  \\\n",
      "2008-12-31             32021       28450        33514              30045   \n",
      "2009-12-31             33791       28197        34981              31574   \n",
      "2010-12-31             33160       28960        32742              31232   \n",
      "2011-12-31             32200       26778        30819              30454   \n",
      "2012-12-31             31427       26099        30038              29981   \n",
      "2013-12-31             29516       25714        28210              29243   \n",
      "2014-12-31             30270       25643        27904              28583   \n",
      "2015-12-31             30743       26050        29264              28910   \n",
      "2016-12-31             34751       26606        29964              29296   \n",
      "2017-12-31             36144       27104        31617              30299   \n",
      "\n",
      "           08 Castilla - La Mancha 09 Cataluña 10 Comunitat Valenciana  \\\n",
      "2008-12-31                   28244       36536                   30007   \n",
      "2009-12-31                   29455       36933                   31135   \n",
      "2010-12-31                   30324       37591                   31620   \n",
      "2011-12-31                   28105       35207                   30345   \n",
      "2012-12-31                   26829       34708                   29064   \n",
      "2013-12-31                   25537       34084                   26905   \n",
      "2014-12-31                   25986       34500                   26165   \n",
      "2015-12-31                   25615       34472                   25826   \n",
      "2016-12-31                   26188       35396                   26534   \n",
      "2017-12-31                   27055       35782                   28122   \n",
      "\n",
      "           11 Extremadura 12 Galicia 13 Madrid, Comunidad de  \\\n",
      "2008-12-31          24852      29859                   38484   \n",
      "2009-12-31          27130      30930                   40861   \n",
      "2010-12-31          26844      32284                   40249   \n",
      "2011-12-31          25932      31455                   39337   \n",
      "2012-12-31          24154      30538                   38241   \n",
      "2013-12-31          24497      29607                   36653   \n",
      "2014-12-31          23056      30147                   36190   \n",
      "2015-12-31          24846      29621                   35374   \n",
      "2016-12-31          25425      30115                   35577   \n",
      "2017-12-31          24375      30869                   37161   \n",
      "\n",
      "           14 Murcia, Región de 15 Navarra, Comunidad Foral de 16 País Vasco  \\\n",
      "2008-12-31                30714                          39055         40865   \n",
      "2009-12-31                30196                          41348         42250   \n",
      "2010-12-31                29238                          41612         41268   \n",
      "2011-12-31                27703                          41464         39655   \n",
      "2012-12-31                27435                          39777         38817   \n",
      "2013-12-31                26457                          38334         39050   \n",
      "2014-12-31                25129                          37147         39296   \n",
      "2015-12-31                25409                          37019         37727   \n",
      "2016-12-31                26364                          37514         38960   \n",
      "2017-12-31                27905                          37931         39578   \n",
      "\n",
      "           17 Rioja, La 18 Ceuta 19 Melilla  \n",
      "2008-12-31        31318    34131      38099  \n",
      "2009-12-31        32591    36893      38928  \n",
      "2010-12-31        31218    38254      41844  \n",
      "2011-12-31        30193    41195      40890  \n",
      "2012-12-31        30476    37429      42857  \n",
      "2013-12-31        29386    35967      40199  \n",
      "2014-12-31        30787    35140      40151  \n",
      "2015-12-31        30449    32817      35708  \n",
      "2016-12-31        31485    34922      40326  \n",
      "2017-12-31        32911    33619      38920  \n"
     ]
    }
   ],
   "source": [
    "inc_t = inc_t.set_index(years)\n",
    "print(inc_t)"
   ]
  },
  {
   "cell_type": "markdown",
   "metadata": {},
   "source": [
    "Check data types"
   ]
  },
  {
   "cell_type": "code",
   "execution_count": 157,
   "metadata": {},
   "outputs": [
    {
     "name": "stdout",
     "output_type": "stream",
     "text": [
      " \n",
      "Total Nacional                    object\n",
      "01 Andalucía                      object\n",
      "02 Aragón                         object\n",
      "03 Asturias, Principado de        object\n",
      "04 Balears, Illes                 object\n",
      "05 Canarias                       object\n",
      "06 Cantabria                      object\n",
      "07 Castilla y León                object\n",
      "08 Castilla - La Mancha           object\n",
      "09 Cataluña                       object\n",
      "10 Comunitat Valenciana           object\n",
      "11 Extremadura                    object\n",
      "12 Galicia                        object\n",
      "13 Madrid, Comunidad de           object\n",
      "14 Murcia, Región de              object\n",
      "15 Navarra, Comunidad Foral de    object\n",
      "16 País Vasco                     object\n",
      "17 Rioja, La                      object\n",
      "18 Ceuta                          object\n",
      "19 Melilla                        object\n",
      "dtype: object\n"
     ]
    }
   ],
   "source": [
    "print(inc_t.dtypes)"
   ]
  },
  {
   "cell_type": "code",
   "execution_count": 163,
   "metadata": {},
   "outputs": [],
   "source": [
    "\n",
    "inc_t=inc_t.astype(float)"
   ]
  },
  {
   "cell_type": "code",
   "execution_count": 166,
   "metadata": {},
   "outputs": [
    {
     "data": {
      "text/plain": [
       "<matplotlib.legend.Legend at 0x1f5fd573be0>"
      ]
     },
     "execution_count": 166,
     "metadata": {},
     "output_type": "execute_result"
    },
    {
     "data": {
      "image/png": "[encoded data removed]",
      "text/plain": [
       "<Figure size 432x288 with 1 Axes>"
      ]
     },
     "metadata": {
      "needs_background": "light"
     },
     "output_type": "display_data"
    }
   ],
   "source": [
    "list_data = [inc_t.loc[:, \"09 Cataluña\"], inc_t.loc[:, \"Total Nacional\"],  inc_t.loc[:, \"13 Madrid, Comunidad de\"], inc_t.loc[:, \"01 Andalucía\"]]\n",
    "sns.lineplot(data=list_data)\n",
    "plt.legend(bbox_to_anchor=(1.05, 1), loc=2, borderaxespad=0.)"
   ]
  },
  {
   "cell_type": "markdown",
   "metadata": {},
   "source": [
    "Create indexed values to compare changes over the last 10 years"
   ]
  },
  {
   "cell_type": "code",
   "execution_count": 172,
   "metadata": {},
   "outputs": [],
   "source": [
    "inc_t['Cataluna_index']=inc_t[\"09 Cataluña\"].apply(lambda x: x*100/inc_t[\"09 Cataluña\"].iloc[0])\n",
    "inc_t['Total_index']=inc_t[\"Total Nacional\"].apply(lambda x: x*100/inc_t[\"Total Nacional\"].iloc[0])\n",
    "inc_t['Madrid_index']=inc_t[\"13 Madrid, Comunidad de\"].apply(lambda x: x*100/inc_t[\"13 Madrid, Comunidad de\"].iloc[0])"
   ]
  },
  {
   "cell_type": "code",
   "execution_count": 173,
   "metadata": {},
   "outputs": [
    {
     "data": {
      "text/plain": [
       "<matplotlib.legend.Legend at 0x1f5fd672a58>"
      ]
     },
     "execution_count": 173,
     "metadata": {},
     "output_type": "execute_result"
    },
    {
     "data": {
      "image/png": "[encoded data removed]",
      "text/plain": [
       "<Figure size 432x288 with 1 Axes>"
      ]
     },
     "metadata": {
      "needs_background": "light"
     },
     "output_type": "display_data"
    }
   ],
   "source": [
    "list_data = [inc_t.loc[:, \"Cataluna_index\"], inc_t.loc[:, \"Total_index\"],inc_t.loc[:, \"Madrid_index\"]]\n",
    "sns.lineplot(data=list_data)\n",
    "plt.legend(bbox_to_anchor=(1.05, 1), loc=2, borderaxespad=0.)"
   ]
  },
  {
   "cell_type": "code",
   "execution_count": null,
   "metadata": {},
   "outputs": [],
   "source": []
  }
 ],
 "metadata": {
  "kernelspec": {
   "display_name": "Python 3",
   "language": "python",
   "name": "python3"
  },
  "language_info": {
   "codemirror_mode": {
    "name": "ipython",
    "version": 3
   },
   "file_extension": ".py",
   "mimetype": "text/x-python",
   "name": "python",
   "nbconvert_exporter": "python",
   "pygments_lexer": "ipython3",
   "version": "3.7.1"
  }
 },
 "nbformat": 4,
 "nbformat_minor": 2
}
